{
 "cells": [
  {
   "cell_type": "code",
   "execution_count": 1,
   "id": "fadaf00e-a2b6-4d92-a26b-3ef82e777937",
   "metadata": {},
   "outputs": [
    {
     "name": "stdout",
     "output_type": "stream",
     "text": [
      "Defaulting to user installation because normal site-packages is not writeable\n",
      "Requirement already satisfied: reportlab in c:\\users\\hp\\appdata\\roaming\\python\\python313\\site-packages (4.3.1)\n",
      "Requirement already satisfied: pillow>=9.0.0 in c:\\users\\hp\\appdata\\roaming\\python\\python313\\site-packages (from reportlab) (11.1.0)\n",
      "Requirement already satisfied: chardet in c:\\users\\hp\\appdata\\roaming\\python\\python313\\site-packages (from reportlab) (5.2.0)\n"
     ]
    }
   ],
   "source": [
    "!pip install reportlab"
   ]
  },
  {
   "cell_type": "code",
   "execution_count": 2,
   "id": "61a0e472-b36d-422d-af47-0135d07a5377",
   "metadata": {},
   "outputs": [
    {
     "name": "stdout",
     "output_type": "stream",
     "text": [
      "Requirement already satisfied: reportlab in c:\\users\\hp\\anaconda3\\lib\\site-packages (4.3.1)\n",
      "Requirement already satisfied: pillow>=9.0.0 in c:\\users\\hp\\anaconda3\\lib\\site-packages (from reportlab) (10.4.0)\n",
      "Requirement already satisfied: chardet in c:\\users\\hp\\anaconda3\\lib\\site-packages (from reportlab) (4.0.0)\n"
     ]
    }
   ],
   "source": [
    "import sys\n",
    "!{sys.executable} -m pip install reportlab"
   ]
  },
  {
   "cell_type": "code",
   "execution_count": 3,
   "id": "077dffc8-5d32-4348-8d98-7cb3920a6133",
   "metadata": {},
   "outputs": [],
   "source": [
    "from PIL import Image, ImageDraw, ImageFont"
   ]
  },
  {
   "cell_type": "markdown",
   "id": "e92d4354-e093-480d-a59a-af90a92c81fa",
   "metadata": {},
   "source": [
    "# CNIC Dimensions"
   ]
  },
  {
   "cell_type": "code",
   "execution_count": 5,
   "id": "df4b7455-6d87-4dc7-b5bc-2f79aef98cbe",
   "metadata": {},
   "outputs": [],
   "source": [
    "WIDTH, HEIGHT = 900, 600"
   ]
  },
  {
   "cell_type": "markdown",
   "id": "98ea2127-4109-4ea6-b436-2603bbadc5d8",
   "metadata": {},
   "source": [
    "# Create a grey background"
   ]
  },
  {
   "cell_type": "code",
   "execution_count": 6,
   "id": "8032397c-5d59-4efb-98a1-a3039d991011",
   "metadata": {},
   "outputs": [],
   "source": [
    "background = Image.new(\"RGB\", (WIDTH, HEIGHT), color=(211, 211, 211))  # Light grey color\n",
    "\n",
    "draw = ImageDraw.Draw(background)"
   ]
  },
  {
   "cell_type": "markdown",
   "id": "c733f032-f5f8-4df3-9536-cffba28fd824",
   "metadata": {},
   "source": [
    "# Fonts"
   ]
  },
  {
   "cell_type": "code",
   "execution_count": 7,
   "id": "a6b04371-7976-4acd-ae8e-781448725621",
   "metadata": {},
   "outputs": [],
   "source": [
    "title_font = ImageFont.truetype(\"arial.ttf\", 32)\n",
    "sub_title_font = ImageFont.truetype(\"arial.ttf\", 24)\n",
    "font = ImageFont.truetype(\"arial.ttf\", 20)\n",
    "font_small = ImageFont.truetype(\"arial.ttf\", 18)"
   ]
  },
  {
   "cell_type": "markdown",
   "id": "c6bc1959-a2e5-476e-a660-f4fc4430459b",
   "metadata": {},
   "source": [
    "# Add headings"
   ]
  },
  {
   "cell_type": "code",
   "execution_count": 8,
   "id": "eb603813-e374-41ac-9581-24a878113cf1",
   "metadata": {},
   "outputs": [],
   "source": [
    "draw.text((WIDTH // 2 - 180, 20), \"ISLAMIC REPUBLIC OF PAKISTAN\", fill=\"black\", font=title_font)\n",
    "draw.text((WIDTH // 2 - 150, 60), \"NATIONAL IDENTITY CARD\", fill=\"black\", font=sub_title_font)"
   ]
  },
  {
   "cell_type": "markdown",
   "id": "86903bd8-b416-429c-8cfa-a011c00092a7",
   "metadata": {},
   "source": [
    "# Profile picture placement"
   ]
  },
  {
   "cell_type": "code",
   "execution_count": 12,
   "id": "936691f8-3994-4074-a094-291992ba66b0",
   "metadata": {},
   "outputs": [],
   "source": [
    "profile_x, profile_y = 50, 120\n",
    "profile_pic = Image.open(\"profile2.png\").resize((140, 160))  \n",
    "background.paste(profile_pic, (profile_x, profile_y))"
   ]
  },
  {
   "cell_type": "markdown",
   "id": "b4b97fcb-d1d9-4ad1-9e76-b33fbefec128",
   "metadata": {},
   "source": [
    "# User Details (adjusting positions for proper alignment)"
   ]
  },
  {
   "cell_type": "code",
   "execution_count": 13,
   "id": "0b96ec84-af5a-437b-9713-242a602fd3ea",
   "metadata": {},
   "outputs": [],
   "source": [
    "details = [\n",
    "    \"Name: Zain Khan\",\n",
    "    \"Father's Name: Muhammad Ahmed Khan\",\n",
    "    \"Gender: M     Country of Stay: Pakistan\",\n",
    "    \"Identity No: 32345-69889012-3\",\n",
    "    \"Date of Birth: 13.06.1997\",\n",
    "    \"Date of Issue: 15.06.2018\",\n",
    "    \"Date of Expiry: 15.06.2028\"\n",
    "]\n",
    "\n",
    "detail_x, detail_y = 220, 120  # Start text position\n",
    "line_spacing = 40\n",
    "\n",
    "for detail in details:\n",
    "    draw.text((detail_x, detail_y), detail, fill=\"black\", font=font)\n",
    "    detail_y += line_spacing"
   ]
  },
  {
   "cell_type": "markdown",
   "id": "6d18370b-5ab2-49de-a392-6a8a82a594d2",
   "metadata": {},
   "source": [
    "# Save as Image & PDF"
   ]
  },
  {
   "cell_type": "code",
   "execution_count": 14,
   "id": "743b105b-adfe-40f7-b3f9-f7a94346be32",
   "metadata": {},
   "outputs": [
    {
     "name": "stdout",
     "output_type": "stream",
     "text": [
      "CNIC generated successfully with a grey background.\n"
     ]
    }
   ],
   "source": [
    "background.save(\"cnic(2).png\")\n",
    "background.save(\"cnic(2).pdf\")\n",
    "\n",
    "print(\"CNIC generated successfully with a grey background.\")"
   ]
  }
 ],
 "metadata": {
  "kernelspec": {
   "display_name": "Python 3 (ipykernel)",
   "language": "python",
   "name": "python3"
  },
  "language_info": {
   "codemirror_mode": {
    "name": "ipython",
    "version": 3
   },
   "file_extension": ".py",
   "mimetype": "text/x-python",
   "name": "python",
   "nbconvert_exporter": "python",
   "pygments_lexer": "ipython3",
   "version": "3.12.7"
  }
 },
 "nbformat": 4,
 "nbformat_minor": 5
}
