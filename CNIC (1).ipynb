{
 "cells": [
  {
   "cell_type": "code",
   "execution_count": 1,
   "id": "472b05b6-64ee-40f4-ae37-4b7fa613fc72",
   "metadata": {},
   "outputs": [
    {
     "name": "stdout",
     "output_type": "stream",
     "text": [
      "Defaulting to user installation because normal site-packages is not writeable\n",
      "Requirement already satisfied: reportlab in c:\\users\\hp\\appdata\\roaming\\python\\python313\\site-packages (4.3.1)\n",
      "Requirement already satisfied: pillow>=9.0.0 in c:\\users\\hp\\appdata\\roaming\\python\\python313\\site-packages (from reportlab) (11.1.0)\n",
      "Requirement already satisfied: chardet in c:\\users\\hp\\appdata\\roaming\\python\\python313\\site-packages (from reportlab) (5.2.0)\n"
     ]
    }
   ],
   "source": [
    "!pip install reportlab"
   ]
  },
  {
   "cell_type": "code",
   "execution_count": 2,
   "id": "a2a393cb-993e-43f4-96e2-37c305b70324",
   "metadata": {},
   "outputs": [
    {
     "name": "stdout",
     "output_type": "stream",
     "text": [
      "Requirement already satisfied: reportlab in c:\\users\\hp\\anaconda3\\lib\\site-packages (4.3.1)\n",
      "Requirement already satisfied: pillow>=9.0.0 in c:\\users\\hp\\anaconda3\\lib\\site-packages (from reportlab) (10.4.0)\n",
      "Requirement already satisfied: chardet in c:\\users\\hp\\anaconda3\\lib\\site-packages (from reportlab) (4.0.0)\n"
     ]
    }
   ],
   "source": [
    "import sys\n",
    "!{sys.executable} -m pip install reportlab"
   ]
  },
  {
   "cell_type": "code",
   "execution_count": 6,
   "id": "68698f04-80ef-42e5-ab3b-8430e2b41d6a",
   "metadata": {},
   "outputs": [],
   "source": [
    "from PIL import Image, ImageDraw, ImageFont"
   ]
  },
  {
   "cell_type": "markdown",
   "id": "1656b94d-bca4-4dec-8e61-8b73483ec07f",
   "metadata": {},
   "source": [
    "# Load CNIC background"
   ]
  },
  {
   "cell_type": "code",
   "execution_count": 17,
   "id": "affc1af1-e2a3-4a4c-8adf-eff731395054",
   "metadata": {},
   "outputs": [],
   "source": [
    "background = Image.open(\"cnic_background.png\")\n",
    "width, height = background.size\n",
    "\n",
    "draw = ImageDraw.Draw(background)"
   ]
  },
  {
   "cell_type": "markdown",
   "id": "e0ca005f-3c9e-49c6-a10a-909be639ec5a",
   "metadata": {},
   "source": [
    "# Load fonts"
   ]
  },
  {
   "cell_type": "code",
   "execution_count": 18,
   "id": "8194f1a0-b1fd-48d7-9776-802a33dd15b5",
   "metadata": {},
   "outputs": [],
   "source": [
    "font_heading = ImageFont.truetype(\"arialbd.ttf\", 28)  # Bold font for heading\n",
    "font_subheading = ImageFont.truetype(\"arial.ttf\", 22)\n",
    "font_main = ImageFont.truetype(\"arial.ttf\", 18)"
   ]
  },
  {
   "cell_type": "markdown",
   "id": "7f1c306f-c135-46bf-aa7f-fd564d6baa5c",
   "metadata": {},
   "source": [
    "# Add headings"
   ]
  },
  {
   "cell_type": "code",
   "execution_count": 19,
   "id": "18948c29-50e9-4ab4-b4a1-be1e0bec1963",
   "metadata": {},
   "outputs": [],
   "source": [
    "draw.text((width // 2 - 180, 20), \"Islamic Republic of Pakistan\", font=font_heading, fill=\"black\")\n",
    "draw.text((width // 2 - 120, 60), \"National Identity Card\", font=font_subheading, fill=\"black\")"
   ]
  },
  {
   "cell_type": "markdown",
   "id": "4e8bc527-3c39-4a96-8d9c-aa15783f44f7",
   "metadata": {},
   "source": [
    "# CNIC details"
   ]
  },
  {
   "cell_type": "code",
   "execution_count": 20,
   "id": "556ae90a-a2e3-45a6-8781-6b6703872132",
   "metadata": {},
   "outputs": [],
   "source": [
    "details = [\n",
    "    \"Name: Simra Nasir\",\n",
    "    \"Father's Name: Muhammad Nasir Ahmed Khan\",\n",
    "    \"Gender: F      Country of Stay: Pakistan\",\n",
    "    \"Identity No: 12345-6789012-3\",\n",
    "    \"Date of Birth: 25.10.2000\",\n",
    "    \"Date of Issue: 15.06.2021\",\n",
    "    \"Date of Expiry: 15.06.2031\"\n",
    "]\n"
   ]
  },
  {
   "cell_type": "markdown",
   "id": "05f997bd-d0e2-4a5c-adb9-a5f202843bc4",
   "metadata": {},
   "source": [
    "# Load and resize profile picture"
   ]
  },
  {
   "cell_type": "code",
   "execution_count": 22,
   "id": "88d612c0-a32a-4e9e-8bc1-965a9c6f5078",
   "metadata": {},
   "outputs": [],
   "source": [
    "profile_pic = Image.open(\"profile.jpg\").resize((140, 160))"
   ]
  },
  {
   "cell_type": "markdown",
   "id": "bde21431-bc92-414f-a374-37336b8d4e62",
   "metadata": {},
   "source": [
    "# Profile picture position"
   ]
  },
  {
   "cell_type": "code",
   "execution_count": 23,
   "id": "621c2f10-0257-4cf8-a90d-08f8e915ecbc",
   "metadata": {},
   "outputs": [],
   "source": [
    "profile_x, profile_y = 50, 120\n",
    "background.paste(profile_pic, (profile_x, profile_y))"
   ]
  },
  {
   "cell_type": "markdown",
   "id": "89fbdff6-0062-4ff2-8258-ea9837afc71a",
   "metadata": {},
   "source": [
    "# Position for text (aligned to the right of profile pic)"
   ]
  },
  {
   "cell_type": "code",
   "execution_count": 25,
   "id": "7e7929bc-0ec7-4829-91c2-9864c2b28277",
   "metadata": {},
   "outputs": [],
   "source": [
    "text_x, text_y = profile_x + 160, profile_y\n",
    "\n",
    "for detail in details:\n",
    "    draw.text((text_x, text_y), detail, font=font_main, fill=\"black\")\n",
    "    text_y += 30  # Spacing between lines\n"
   ]
  },
  {
   "cell_type": "markdown",
   "id": "aa291f09-a69b-406a-ba18-1b8d1a490bd5",
   "metadata": {},
   "source": [
    "# Save the generated CNIC"
   ]
  },
  {
   "cell_type": "code",
   "execution_count": 27,
   "id": "451a18f3-c22b-4b5e-91f5-0a66582ff1e5",
   "metadata": {},
   "outputs": [
    {
     "name": "stdout",
     "output_type": "stream",
     "text": [
      "CNIC generated successfully!\n"
     ]
    }
   ],
   "source": [
    "background.save(\"cnic(1).png\")\n",
    "background.convert(\"RGB\").save(\"cnic(1).pdf\")\n",
    "\n",
    "print(\"CNIC generated successfully!\")"
   ]
  },
  {
   "cell_type": "code",
   "execution_count": null,
   "id": "c7356401-89c6-46b9-8a40-108ed4124acd",
   "metadata": {},
   "outputs": [],
   "source": []
  }
 ],
 "metadata": {
  "kernelspec": {
   "display_name": "Python 3 (ipykernel)",
   "language": "python",
   "name": "python3"
  },
  "language_info": {
   "codemirror_mode": {
    "name": "ipython",
    "version": 3
   },
   "file_extension": ".py",
   "mimetype": "text/x-python",
   "name": "python",
   "nbconvert_exporter": "python",
   "pygments_lexer": "ipython3",
   "version": "3.12.7"
  }
 },
 "nbformat": 4,
 "nbformat_minor": 5
}
